{
  "cells": [
    {
      "cell_type": "code",
      "execution_count": null,
      "metadata": {
        "colab": {
          "base_uri": "https://localhost:8080/"
        },
        "id": "uZD1JvhVfQnI",
        "outputId": "e58ab537-3148-4d11-ae00-bbf209e8e8e9"
      },
      "outputs": [
        {
          "output_type": "stream",
          "name": "stdout",
          "text": [
            "Collecting imagecodecs\n",
            "  Downloading imagecodecs-2021.11.20-cp37-cp37m-manylinux_2_17_x86_64.manylinux2014_x86_64.whl (31.0 MB)\n",
            "\u001b[K     |████████████████████████████████| 31.0 MB 196 kB/s \n",
            "\u001b[?25hRequirement already satisfied: numpy>=1.16.5 in /usr/local/lib/python3.7/dist-packages (from imagecodecs) (1.21.5)\n",
            "Installing collected packages: imagecodecs\n",
            "Successfully installed imagecodecs-2021.11.20\n"
          ]
        }
      ],
      "source": [
        "# INSTALLINGS\n",
        "\n",
        "!pip install imagecodecs"
      ]
    },
    {
      "cell_type": "code",
      "source": [
        "!nvidia-smi"
      ],
      "metadata": {
        "colab": {
          "base_uri": "https://localhost:8080/"
        },
        "id": "t0vLD1bSTuU5",
        "outputId": "fd09992b-bfa5-47b9-8eba-cd9d3a39fdb2"
      },
      "execution_count": null,
      "outputs": [
        {
          "output_type": "stream",
          "name": "stdout",
          "text": [
            "Sat Feb 19 18:52:27 2022       \n",
            "+-----------------------------------------------------------------------------+\n",
            "| NVIDIA-SMI 460.32.03    Driver Version: 460.32.03    CUDA Version: 11.2     |\n",
            "|-------------------------------+----------------------+----------------------+\n",
            "| GPU  Name        Persistence-M| Bus-Id        Disp.A | Volatile Uncorr. ECC |\n",
            "| Fan  Temp  Perf  Pwr:Usage/Cap|         Memory-Usage | GPU-Util  Compute M. |\n",
            "|                               |                      |               MIG M. |\n",
            "|===============================+======================+======================|\n",
            "|   0  Tesla T4            Off  | 00000000:00:04.0 Off |                    0 |\n",
            "| N/A   41C    P8     9W /  70W |      0MiB / 15109MiB |      0%      Default |\n",
            "|                               |                      |                  N/A |\n",
            "+-------------------------------+----------------------+----------------------+\n",
            "                                                                               \n",
            "+-----------------------------------------------------------------------------+\n",
            "| Processes:                                                                  |\n",
            "|  GPU   GI   CI        PID   Type   Process name                  GPU Memory |\n",
            "|        ID   ID                                                   Usage      |\n",
            "|=============================================================================|\n",
            "|  No running processes found                                                 |\n",
            "+-----------------------------------------------------------------------------+\n"
          ]
        }
      ]
    },
    {
      "cell_type": "code",
      "execution_count": null,
      "metadata": {
        "colab": {
          "base_uri": "https://localhost:8080/"
        },
        "id": "OpJAl9SpUB8D",
        "outputId": "15b69cc5-65cb-4e95-b445-5b8b4d05e4e3"
      },
      "outputs": [
        {
          "output_type": "stream",
          "name": "stdout",
          "text": [
            "Mounted at /content/drive\n"
          ]
        }
      ],
      "source": [
        "# LINKAGE TO GOOGLE DRIVE AND LIBRERIES IMPORTING\n",
        "\n",
        "from google.colab import drive\n",
        "drive.mount('/content/drive')\n",
        "\n",
        "import os\n",
        "import random\n",
        "import numpy as np\n",
        "import plotly.express as px\n",
        "import imagecodecs\n",
        "\n",
        "from matplotlib import pyplot as plt\n",
        "from tqdm import tqdm\n",
        "from skimage.io import imread, imshow, imsave\n",
        "from skimage.transform import resize\n",
        "from skimage.segmentation import mark_boundaries\n",
        "from scipy import ndimage\n",
        "from skimage.util import img_as_float,img_as_ubyte, crop\n",
        "from skimage.morphology import binary_dilation\n",
        "from keras.utils.np_utils import to_categorical\n",
        "from skimage import measure, morphology"
      ]
    },
    {
      "cell_type": "code",
      "execution_count": null,
      "metadata": {
        "id": "C9vABYz1bM5l",
        "colab": {
          "base_uri": "https://localhost:8080/"
        },
        "outputId": "27411aeb-2ab3-480e-a7bf-da6fd536da62"
      },
      "outputs": [
        {
          "output_type": "stream",
          "name": "stdout",
          "text": [
            "Collecting unrar\n",
            "  Downloading unrar-0.4-py3-none-any.whl (25 kB)\n",
            "Installing collected packages: unrar\n",
            "Successfully installed unrar-0.4\n",
            "\n",
            "UNRAR 5.50 freeware      Copyright (c) 1993-2017 Alexander Roshal\n",
            "\n",
            "\n",
            "Extracting from drive/MyDrive/cytology challenge condivisa/00_DATASET/train.rar\n",
            "\n",
            "Creating    train                                                     OK\n",
            "Creating    train/images                                              OK\n",
            "Extracting  train/images/102.tif                                         \b\b\b\b  0%\b\b\b\b\b  OK \n",
            "Extracting  train/images/104.tif                                         \b\b\b\b  0%\b\b\b\b  1%\b\b\b\b\b  OK \n",
            "Extracting  train/images/106.tif                                         \b\b\b\b  1%\b\b\b\b\b  OK \n",
            "Extracting  train/images/108.tif                                         \b\b\b\b  1%\b\b\b\b  2%\b\b\b\b\b  OK \n",
            "Extracting  train/images/109.tif                                         \b\b\b\b  2%\b\b\b\b\b  OK \n",
            "Extracting  train/images/111.tif                                         \b\b\b\b  2%\b\b\b\b  3%\b\b\b\b\b  OK \n",
            "Extracting  train/images/112.tif                                         \b\b\b\b  3%\b\b\b\b\b  OK \n",
            "Extracting  train/images/114.tif                                         \b\b\b\b  3%\b\b\b\b  4%\b\b\b\b\b  OK \n",
            "Extracting  train/images/1697.tif                                        \b\b\b\b  4%\b\b\b\b\b  OK \n",
            "Extracting  train/images/1698.tif                                        \b\b\b\b  4%\b\b\b\b\b  OK \n",
            "Extracting  train/images/1714.tif                                        \b\b\b\b  4%\b\b\b\b\b  OK \n",
            "Extracting  train/images/1722.tif                                        \b\b\b\b  5%\b\b\b\b\b  OK \n",
            "Extracting  train/images/1724.tif                                        \b\b\b\b  5%\b\b\b\b\b  OK \n",
            "Extracting  train/images/1726.tif                                        \b\b\b\b  5%\b\b\b\b\b  OK \n",
            "Extracting  train/images/1727.tif                                        \b\b\b\b  6%\b\b\b\b\b  OK \n",
            "Extracting  train/images/1730.tif                                        \b\b\b\b  6%\b\b\b\b\b  OK \n",
            "Extracting  train/images/1740.tif                                        \b\b\b\b  6%\b\b\b\b\b  OK \n",
            "Extracting  train/images/1743.tif                                        \b\b\b\b  6%\b\b\b\b\b  OK \n",
            "Extracting  train/images/1775.tif                                        \b\b\b\b  7%\b\b\b\b\b  OK \n",
            "Extracting  train/images/1778.tif                                        \b\b\b\b  7%\b\b\b\b\b  OK \n",
            "Extracting  train/images/1783.tif                                        \b\b\b\b  7%\b\b\b\b\b  OK \n",
            "Extracting  train/images/1792.tif                                        \b\b\b\b  8%\b\b\b\b\b  OK \n",
            "Extracting  train/images/1798.tif                                        \b\b\b\b  8%\b\b\b\b\b  OK \n",
            "Extracting  train/images/1800.tif                                        \b\b\b\b  8%\b\b\b\b\b  OK \n",
            "Extracting  train/images/1801.tif                                        \b\b\b\b  9%\b\b\b\b\b  OK \n",
            "Extracting  train/images/1802.tif                                        \b\b\b\b  9%\b\b\b\b\b  OK \n",
            "Extracting  train/images/1805.tif                                        \b\b\b\b  9%\b\b\b\b\b  OK \n",
            "Extracting  train/images/1807.tif                                        \b\b\b\b  9%\b\b\b\b\b  OK \n",
            "Extracting  train/images/1809.tif                                        \b\b\b\b 10%\b\b\b\b\b  OK \n",
            "Extracting  train/images/1811.tif                                        \b\b\b\b 10%\b\b\b\b\b  OK \n",
            "Extracting  train/images/1818.tif                                        \b\b\b\b 10%\n",
            "User break\n",
            "\b\b\b\b 11%\n",
            "Program aborted\n",
            "\n",
            "UNRAR 5.50 freeware      Copyright (c) 1993-2017 Alexander Roshal\n",
            "\n",
            "\n",
            "Extracting from drive/MyDrive/cytology challenge condivisa/00_DATASET/validation.rar\n",
            "\n",
            "Creating    validation                                                OK\n",
            "Creating    validation/images                                         OK\n",
            "Extracting  validation/images/110.tif                                    \b\b\b\b  1%\b\b\b\b  2%\b\b\b\b\b  OK \n",
            "Extracting  validation/images/113.tif                                    \b\b\b\b  4%\b\b\b\b  5%\b\b\b\b\b  OK \n",
            "Extracting  validation/images/115.tif                                    \b\b\b\b  6%\b\b\b\b  7%\b\b\b\b\b  OK \n",
            "Extracting  validation/images/1693.tif                                   \b\b\b\b  9%\b\b\b\b\b  OK \n",
            "Extracting  validation/images/1694.tif                                   \b\b\b\b 10%\b\b\b\b\b  OK \n",
            "Extracting  validation/images/1704.tif                                   \b\b\b\b 12%\b\b\b\b\b  OK \n",
            "Extracting  validation/images/1705.tif                                   \b\b\b\b 13%\b\b\b\b\b  OK \n",
            "Extracting  validation/images/1709.tif                                   \b\b\b\b 15%\b\b\b\b\b  OK \n",
            "Extracting  validation/images/1715.tif                                   \b\b\b\b 16%\b\b\b\b\b  OK \n",
            "Extracting  validation/images/1716.tif                                   \b\b\b\b 17%\b\b\b\b\b  OK \n",
            "Extracting  validation/images/1719.tif                                   \b\b\b\b 19%\b\b\b\b\b  OK \n",
            "Extracting  validation/images/1738.tif                                   \b\b\b\b 20%\b\b\b\b\b  OK \n",
            "Extracting  validation/images/1739.tif                                   \b\b\b\b 22%\b\b\b\b\b  OK \n",
            "Extracting  validation/images/1742.tif                                   \b\b\b\b 23%\b\b\b\b\b  OK \n",
            "Extracting  validation/images/1745.tif                                   \b\b\b\b 25%\b\b\b\b\b  OK \n",
            "Extracting  validation/images/1747.tif                                   \b\b\b\b 26%\b\b\b\b\b  OK \n",
            "Extracting  validation/images/1762.tif                                   \b\b\b\b 28%\b\b\b\b\b  OK \n",
            "Extracting  validation/images/1766.tif                                   \b\b\b\b 30%\b\b\b\b\b  OK \n",
            "Extracting  validation/images/1770.tif                                   \b\b\b\b 31%\b\b\b\b\b  OK \n",
            "Extracting  validation/images/1774.tif                                   \b\b\b\b 33%\b\b\b\b\b  OK \n",
            "Extracting  validation/images/1776.tif                                   \b\b\b\b 34%\b\b\b\b\b  OK \n",
            "Extracting  validation/images/1808.tif                                   \b\b\b\b 36%\b\b\b\b\b  OK \n",
            "Extracting  validation/images/1812.tif                                   \b\b\b\b 37%\b\b\b\b\b  OK \n",
            "Extracting  validation/images/1815.tif                                   \b\b\b\b 39%\b\b\b\b\b  OK \n",
            "Extracting  validation/images/1816.tif                                   \b\b\b\b 41%\b\b\b\b\b  OK \n",
            "Extracting  validation/images/1837.tif                                   \b\b\b\b 42%\b\b\b\b\b  OK \n",
            "Extracting  validation/images/1838.tif                                   \b\b\b\b 44%\b\b\b\b\b  OK \n",
            "Extracting  validation/images/1839.tif                                   \b\b\b\b 45%\b\b\b\b\b  OK \n",
            "Extracting  validation/images/1844.tif                                   \b\b\b\b 47%\b\b\b\b\b  OK \n",
            "Extracting  validation/images/1847.tif                                   \b\b\b\b 48%\b\b\b\b\b  OK \n",
            "Extracting  validation/images/1853.tif                                   \b\b\b\b 50%\b\b\b\b\b  OK \n",
            "Extracting  validation/images/1854.tif                                   \b\b\b\b 51%\b\b\b\b\b  OK \n",
            "Extracting  validation/images/1855.tif                                   \b\b\b\b 53%\b\b\b\b\b  OK \n",
            "Extracting  validation/images/203.tif                                    \b\b\b\b 54%\b\b\b\b 55%\b\b\b\b\b  OK \n",
            "Extracting  validation/images/206.tif                                    \b\b\b\b 57%\b\b\b\b 58%\b\b\b\b\b  OK \n",
            "Extracting  validation/images/207.tif                                    \b\b\b\b 60%\b\b\b\b 61%\b\b\b\b\b  OK \n",
            "Extracting  validation/images/208.tif                                    \b\b\b\b 62%\b\b\b\b 63%\b\b\b\b\b  OK \n",
            "Extracting  validation/images/304.tif                                    \b\b\b\b 65%\b\b\b\b 66%\b\b\b\b\b  OK \n",
            "Extracting  validation/images/305.tif                                    \b\b\b\b 68%"
          ]
        }
      ],
      "source": [
        "# DATASET UNRAR: LOADING DATASET IN COLAB\n",
        "\n",
        "!pip install unrar\n",
        "!unrar x \"drive/MyDrive/cytology challenge condivisa/00_DATASET/train.rar\"     # unraring training set\n",
        "!unrar x \"drive/MyDrive/cytology challenge condivisa/00_DATASET/validation.rar\"   # unraring validation set\n",
        "!unrar x \"drive/MyDrive/cytology challenge condivisa/00_DATASET/test.rar\"         # unraring test set"
      ]
    },
    {
      "cell_type": "code",
      "source": [
        "# SETTINGS OF CURRENT PRE-PROCESSING\n",
        "\n",
        "pre_proc_name = 'IL1'  # name of current pre-processing <------------------------------- CHANGE HERE\n",
        "rsz = 512  # resizing size (resize images to rsz x rsz) <-------------------------------- CHANGE HERE\n",
        "NUM_CLASSES = 3 # number of classes choosen for the problem <---------------------------- CHANGE HERE"
      ],
      "metadata": {
        "id": "0OyyYk9bPH6m"
      },
      "execution_count": null,
      "outputs": []
    },
    {
      "cell_type": "code",
      "execution_count": null,
      "metadata": {
        "id": "WbWFShQOvfIm",
        "colab": {
          "base_uri": "https://localhost:8080/"
        },
        "outputId": "fd1c23ac-400f-462b-bdbb-fac3afd11aea"
      },
      "outputs": [
        {
          "output_type": "stream",
          "name": "stdout",
          "text": [
            "110.tif 113.tif\n"
          ]
        }
      ],
      "source": [
        "# STORING TRAINING SET IMAGES AND MASKS IN PROPER NDARRAY\n",
        "\n",
        "# path\n",
        "tr_IMGS_path = os.path.join('train','images')\n",
        "tr_MANU_path = os.path.join('train','manual')\n",
        "\n",
        "# extracting list of images\n",
        "tr_images = sorted(os.listdir(tr_IMGS_path))\n",
        "\n",
        "# body\n",
        "X_tr = np.zeros([len(tr_images),rsz,rsz,3], dtype=np.uint8)\n",
        "Y_tr = np.zeros([len(tr_images),rsz,rsz], dtype=np.uint8)\n",
        "for n, id_ in tqdm(enumerate(tr_images), total=len(tr_images)):\n",
        "\n",
        "    # loading\n",
        "    img = imread(tr_IMGS_path+'/'+id_) # uint8 stained image\n",
        "    manu0 = imagecodecs.imread(tr_MANU_path+'/'+id_) # N layers manual segmentations (each layer a different MM cell)\n",
        "\n",
        "    # \"compressing\" segmentation annotations on a single layer\n",
        "    if len(manu0.shape)==2:\n",
        "      manu = np.copy(manu0[:,:])\n",
        "    else:\n",
        "      manu = np.copy(manu0[:,:,0])\n",
        "      for j in range(1,manu0.shape[2]):\n",
        "        manu[manu0[:,:,j]==255] = 255\n",
        "        manu[manu0[:,:,j]==128] = 128\n",
        "        manu = morphology.area_opening(manu,0.001*manu.shape[0]*manu.shape[1])  # removal of small objects erroneously annotated (single pixels or little spots)\n",
        "        manu = morphology.area_closing(manu,0.001*manu.shape[0]*manu.shape[1])  # removal of small holes errouneously not annotated\n",
        "\n",
        "    #resizing\n",
        "    img = img_as_ubyte(resize(img,[rsz,rsz]))\n",
        "    manu = img_as_ubyte(resize(manu,[rsz,rsz]))\n",
        "    manu[manu < 80] = 0\n",
        "    manu[ (manu >= 80)*(manu <= 175) ] = 1\n",
        "    manu[manu > 175] = 2\n",
        "\n",
        "    # actual storage\n",
        "    X_tr[n] = np.copy(img)\n",
        "    Y_tr[n] = np.copy(manu)\n",
        "\n",
        "# Y_tr = to_categorical(Y_tr, num_classes = NUM_CLASSES, dtype='float32')  # conversion to categorical data\n",
        "\n",
        "\n",
        "# STORING VALIDATION SET IMAGES AND MASKS IN PROPER NDARRAY\n",
        "\n",
        "# path\n",
        "vl_IMGS_path = os.path.join('validation','images')\n",
        "vl_MANU_path = os.path.join('validation','manual')\n",
        "\n",
        "# extracting list of images\n",
        "vl_images = sorted(os.listdir(vl_IMGS_path))\n",
        "\n",
        "# body\n",
        "X_vl = np.zeros([len(vl_images),rsz,rsz,3], dtype=np.uint8)\n",
        "Y_vl = np.zeros([len(vl_images),rsz,rsz], dtype=np.uint8)\n",
        "for n, id_ in tqdm(enumerate(vl_images), total=len(vl_images)):\n",
        "\n",
        "    # loading\n",
        "    img = imread(vl_IMGS_path+'/'+id_)\n",
        "    manu0 = imagecodecs.imread(vl_MANU_path+'/'+id_) # N layers manual segmentations (each layer a different MM cell)\n",
        "\n",
        "    # \"compressing\" segmentation annotations on a single layer\n",
        "    if len(manu0.shape)==2:\n",
        "      manu = np.copy(manu0[:,:])\n",
        "    else:\n",
        "      manu = np.copy(manu0[:,:,0])\n",
        "      for j in range(1,manu0.shape[2]):\n",
        "        manu[manu0[:,:,j]==255] = 255\n",
        "        manu[manu0[:,:,j]==128] = 128\n",
        "        manu = morphology.area_opening(manu,0.001*manu.shape[0]*manu.shape[1])  # removal of small objects erroneously annotated (single pixels or little spots)\n",
        "        manu = morphology.area_closing(manu,0.001*manu.shape[0]*manu.shape[1])  # removal of small holes errouneously not annotated\n",
        "\n",
        "    #resizing\n",
        "    img = img_as_ubyte(resize(img,[rsz,rsz]))\n",
        "    manu = img_as_ubyte(resize(manu,[rsz,rsz]))\n",
        "    manu[manu < 80] = 0\n",
        "    manu[ (manu >= 80)*(manu <= 175) ] = 1\n",
        "    manu[manu > 175] = 2\n",
        "\n",
        "    # actual storage\n",
        "    X_vl[n] = np.copy(img)\n",
        "    Y_vl[n] = np.copy(manu)\n",
        "\n",
        "# Y_vl = to_categorical(Y_vl, num_classes = NUM_CLASSES, dtype='float32')  # conversion to categorical data\n",
        "\n",
        "%whos\n",
        "\n",
        "#print(vl_images[0],vl_images[1])"
      ]
    },
    {
      "cell_type": "code",
      "source": [
        "# SAVING PRE-PROCESSED\n",
        "\n",
        "np.savez(os.path.join('drive/MyDrive/cytology challenge condivisa/01_PRE-PROCESSED',pre_proc_name),X_tr=X_tr,X_vl=X_vl)\n",
        "pre_proc_annotations_name = 'IL1_manual_mask_' + str(rsz) + 'x' + str(rsz)  # <------------------------------------------------- comment this line if preprocessed annotations of wanted size are already existing\n",
        "np.savez(os.path.join('drive/MyDrive/cytology challenge condivisa/01_PRE-PROCESSED',pre_proc_annotations_name),Y_tr=Y_tr,Y_vl=Y_vl)  # <-- comment this line if preprocessed annotations of wanted size are already existing"
      ],
      "metadata": {
        "id": "8xtHskPOPu6a"
      },
      "execution_count": null,
      "outputs": []
    }
  ],
  "metadata": {
    "colab": {
      "provenance": []
    },
    "kernelspec": {
      "display_name": "Python 3",
      "name": "python3"
    },
    "language_info": {
      "name": "python"
    },
    "accelerator": "GPU"
  },
  "nbformat": 4,
  "nbformat_minor": 0
}